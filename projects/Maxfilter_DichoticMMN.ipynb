from os.path import join, basename
proj_name = 'MINDLAB2016_MEG-Language-PD-DBS'
scratch_folder = join('/projects', proj_name, 'scratch')
mf_folder = join(scratch_folder, 'maxfilter')  # for maxfilter output
scripts_folder = join('/projects', proj_name, 'scripts')
misc_folder = join('/projects', proj_name, 'misc')
trans_folder = join(scratch_folder, 'trans')  # for transforms
